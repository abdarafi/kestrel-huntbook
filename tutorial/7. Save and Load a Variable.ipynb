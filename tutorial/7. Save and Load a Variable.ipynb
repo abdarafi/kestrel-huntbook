{
 "cells": [
  {
   "cell_type": "markdown",
   "id": "48963b14",
   "metadata": {},
   "source": [
    "# Save and Load a Variable\n",
    "\n",
    "You can save/dump a variable to disk and load it from disk into another hunt. The capability also enables the [Docker analytics interface](https://kestrel.readthedocs.io/en/latest/source/kestrel_analytics_docker.interface.html):\n",
    "- dump variables from the Kestrel runtime and feed them to the analytics running in Docker, and\n",
    "- load variables back from the analytics to Kestrel runtime."
   ]
  },
  {
   "cell_type": "markdown",
   "id": "6ab9e16a",
   "metadata": {},
   "source": [
    "## What you will learn\n",
    "\n",
    "0. Command for save/load variables\n",
    "1. How to `SAVE` a variable to disk?\n",
    "2. How to `LOAD` a variable from disk?\n",
    "3. Exercise: load a variable in another hunt book"
   ]
  },
  {
   "cell_type": "markdown",
   "id": "78c75dbe",
   "metadata": {},
   "source": [
    "### 0. Command for save/load variables\n",
    "\n",
    "The commands for save/dump and load variables are:\n",
    "- [SAVE](https://kestrel.readthedocs.io/en/stable/language/commands.html#save)\n",
    "- [LOAD](https://kestrel.readthedocs.io/en/stable/language/commands.html#load)"
   ]
  },
  {
   "cell_type": "markdown",
   "id": "063101c0",
   "metadata": {},
   "source": [
    "### 1. How to `SAVE` a variable to disk?"
   ]
  },
  {
   "cell_type": "code",
   "execution_count": 1,
   "id": "555ebb6c",
   "metadata": {},
   "outputs": [
    {
     "name": "stderr",
     "output_type": "stream",
     "text": []
    },
    {
     "data": {
      "text/html": [
       "<div><h4>Block Executed in 2 seconds</h4><table border=\"1\" class=\"dataframe\">\n",
       "  <thead>\n",
       "    <tr style=\"text-align: right;\">\n",
       "      <th>VARIABLE</th>\n",
       "      <th>TYPE</th>\n",
       "      <th>#(ENTITIES)</th>\n",
       "      <th>#(RECORDS)</th>\n",
       "      <th>directory*</th>\n",
       "      <th>file*</th>\n",
       "      <th>ipv4-addr*</th>\n",
       "      <th>ipv6-addr*</th>\n",
       "      <th>mac-addr*</th>\n",
       "      <th>network-traffic*</th>\n",
       "      <th>process*</th>\n",
       "      <th>user-account*</th>\n",
       "      <th>x-ecs-destination*</th>\n",
       "      <th>x-ecs-network*</th>\n",
       "      <th>x-ecs-process*</th>\n",
       "      <th>x-ecs-source*</th>\n",
       "      <th>x-ecs-user*</th>\n",
       "      <th>x-oca-asset*</th>\n",
       "      <th>x-oca-event*</th>\n",
       "    </tr>\n",
       "  </thead>\n",
       "  <tbody>\n",
       "    <tr>\n",
       "      <td>conns</td>\n",
       "      <td>network-traffic</td>\n",
       "      <td>425</td>\n",
       "      <td>504</td>\n",
       "      <td>504</td>\n",
       "      <td>504</td>\n",
       "      <td>1534</td>\n",
       "      <td>926</td>\n",
       "      <td>504</td>\n",
       "      <td>79</td>\n",
       "      <td>504</td>\n",
       "      <td>504</td>\n",
       "      <td>504</td>\n",
       "      <td>504</td>\n",
       "      <td>504</td>\n",
       "      <td>504</td>\n",
       "      <td>504</td>\n",
       "      <td>504</td>\n",
       "      <td>504</td>\n",
       "    </tr>\n",
       "  </tbody>\n",
       "</table><p>*Number of related records cached.</p></div>"
      ]
     },
     "metadata": {},
     "output_type": "display_data"
    }
   ],
   "source": [
    "conns = GET network-traffic\n",
    "        FROM file:///tmp/lab101.json\n",
    "        WHERE dst_port > 0\n",
    "\n",
    "# 3 file formats are supported, including the gziped parquet used here\n",
    "# check doc for details: https://kestrel.readthedocs.io/en/latest/language.html#save\n",
    "SAVE conns TO /tmp/kestrel_hunt_1_conns.parquet.gz"
   ]
  },
  {
   "cell_type": "markdown",
   "id": "69413203",
   "metadata": {},
   "source": [
    "###  2. How to `LOAD` a variable from disk?"
   ]
  },
  {
   "cell_type": "code",
   "execution_count": 2,
   "id": "d0f51ef7",
   "metadata": {},
   "outputs": [
    {
     "name": "stderr",
     "output_type": "stream",
     "text": []
    },
    {
     "data": {
      "text/html": [
       "<div><h4>Block Executed in 1 seconds</h4><table border=\"1\" class=\"dataframe\">\n",
       "  <thead>\n",
       "    <tr style=\"text-align: right;\">\n",
       "      <th>VARIABLE</th>\n",
       "      <th>TYPE</th>\n",
       "      <th>#(ENTITIES)</th>\n",
       "      <th>#(RECORDS)</th>\n",
       "      <th>directory*</th>\n",
       "      <th>file*</th>\n",
       "      <th>ipv4-addr*</th>\n",
       "      <th>ipv6-addr*</th>\n",
       "      <th>mac-addr*</th>\n",
       "      <th>network-traffic*</th>\n",
       "      <th>process*</th>\n",
       "      <th>user-account*</th>\n",
       "      <th>x-ecs-destination*</th>\n",
       "      <th>x-ecs-network*</th>\n",
       "      <th>x-ecs-process*</th>\n",
       "      <th>x-ecs-source*</th>\n",
       "      <th>x-ecs-user*</th>\n",
       "      <th>x-oca-asset*</th>\n",
       "      <th>x-oca-event*</th>\n",
       "    </tr>\n",
       "  </thead>\n",
       "  <tbody>\n",
       "    <tr>\n",
       "      <td>conns2</td>\n",
       "      <td>network-traffic</td>\n",
       "      <td>425</td>\n",
       "      <td>504</td>\n",
       "      <td>0</td>\n",
       "      <td>0</td>\n",
       "      <td>0</td>\n",
       "      <td>0</td>\n",
       "      <td>0</td>\n",
       "      <td>0</td>\n",
       "      <td>0</td>\n",
       "      <td>0</td>\n",
       "      <td>0</td>\n",
       "      <td>0</td>\n",
       "      <td>0</td>\n",
       "      <td>0</td>\n",
       "      <td>0</td>\n",
       "      <td>0</td>\n",
       "      <td>0</td>\n",
       "    </tr>\n",
       "  </tbody>\n",
       "</table><p>*Number of related records cached.</p></div>"
      ]
     },
     "metadata": {},
     "output_type": "display_data"
    }
   ],
   "source": [
    "conns2 = LOAD /tmp/kestrel_hunt_1_conns.parquet.gz"
   ]
  },
  {
   "cell_type": "markdown",
   "id": "213bf6d9",
   "metadata": {},
   "source": [
    "### 3. Exercise: load a variable in another hunt book\n",
    "\n",
    "1. Go to menu: `File -> New Notebook -> Kestrel` to create a new hunt book.\n",
    "2. Use the `LOAD` command to load `/tmp/kestrel_hunt_1_conns.parquet.gz` into the new hunt book.\n",
    "3. Add a new hunt step that uses the newly loaded variable."
   ]
  },
  {
   "cell_type": "code",
   "execution_count": null,
   "id": "f47249c9",
   "metadata": {},
   "outputs": [],
   "source": []
  }
 ],
 "metadata": {
  "kernelspec": {
   "display_name": "Kestrel",
   "language": "kestrel",
   "name": "kestrel"
  },
  "language_info": {
   "file_extension": ".hf",
   "name": "kestrel"
  }
 },
 "nbformat": 4,
 "nbformat_minor": 5
}
