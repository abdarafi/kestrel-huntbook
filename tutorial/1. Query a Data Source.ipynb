{
 "cells": [
  {
   "cell_type": "markdown",
   "id": "ebd7b6d2",
   "metadata": {},
   "source": [
    "# Query a Data Source\n",
    "\n",
    "In real-world hunts, the first thing to do is to get data from a data source such as a EDR, a SIEM, a firewall, so you can further analyze data, filter data, merge data, or form your new queries. In this hunt book, you will learn how to use the `GET` command to retrieve data from a data source."
   ]
  },
  {
   "cell_type": "markdown",
   "id": "c968c7c6",
   "metadata": {},
   "source": [
    "## What you will learn\n",
    "\n",
    "0. How to setup data sources?\n",
    "1. How to `GET` data from a data source?\n",
    "2. How to `GET` data from a Kestrel variable?\n",
    "3. How to refer to a Kestrel variable in a `GET` command?\n",
    "4. How to combine `NEW` and `GET` in a hunt flow?\n",
    "5. Exercise: get Windows scheduler processes directly"
   ]
  },
  {
   "cell_type": "markdown",
   "id": "b19e0582",
   "metadata": {},
   "source": [
    "###  0. How to setup data sources?\n",
    "\n",
    "Skip the data source setup if you just want to try Kestrel and learn basic concepts here. You will be using a canned data source in this hunt book:\n",
    "```\n",
    "file:///tmp/lab101.json\n",
    "```\n",
    "\n",
    "For real-world hunts in your orgainzation, you need to deploy Kestrel and connect your data sources:\n",
    "1. [Install Kestrel runtime](https://kestrel.readthedocs.io/en/latest/installation/runtime.html)\n",
    "2. [Connect to Data Sources](https://kestrel.readthedocs.io/en/latest/installation/datasource.html)"
   ]
  },
  {
   "cell_type": "markdown",
   "id": "84252315",
   "metadata": {},
   "source": [
    "### 1. How to `GET` data from a data source?\n",
    "\n",
    "Given the data source `file:///tmp/lab101.json`, which packs Sysmon logs from a Windows 10 host on 2021-04-03, you will learn how to write a `GET` command: query the data source and retrieve `svchost.exe` processes.\n",
    "\n",
    "Basically, `GET` retrieves a type of entities regarding the criteria given in the `WHERE` clause against the data source specified in `FROM`. In another word, this is a query to match entities in the pattern defined in `WHERE`. Visit the [language specification of GET](https://kestrel.readthedocs.io/en/latest/language.html#get) to learn more about the syntax and usage."
   ]
  },
  {
   "cell_type": "code",
   "execution_count": 1,
   "id": "4c43bc7c",
   "metadata": {},
   "outputs": [
    {
     "name": "stderr",
     "output_type": "stream",
     "text": []
    },
    {
     "data": {
      "text/html": [
       "<div><h4>Block Executed in 3 seconds</h4><table border=\"1\" class=\"dataframe\">\n",
       "  <thead>\n",
       "    <tr style=\"text-align: right;\">\n",
       "      <th>VARIABLE</th>\n",
       "      <th>TYPE</th>\n",
       "      <th>#(ENTITIES)</th>\n",
       "      <th>#(RECORDS)</th>\n",
       "      <th>directory*</th>\n",
       "      <th>file*</th>\n",
       "      <th>ipv4-addr*</th>\n",
       "      <th>ipv6-addr*</th>\n",
       "      <th>mac-addr*</th>\n",
       "      <th>network-traffic*</th>\n",
       "      <th>process*</th>\n",
       "      <th>user-account*</th>\n",
       "      <th>x-ecs-destination*</th>\n",
       "      <th>x-ecs-network*</th>\n",
       "      <th>x-ecs-process*</th>\n",
       "      <th>x-ecs-source*</th>\n",
       "      <th>x-ecs-user*</th>\n",
       "      <th>x-oca-asset*</th>\n",
       "      <th>x-oca-event*</th>\n",
       "    </tr>\n",
       "  </thead>\n",
       "  <tbody>\n",
       "    <tr>\n",
       "      <td>svchost</td>\n",
       "      <td>process</td>\n",
       "      <td>389</td>\n",
       "      <td>533</td>\n",
       "      <td>1078</td>\n",
       "      <td>1114</td>\n",
       "      <td>3190</td>\n",
       "      <td>1910</td>\n",
       "      <td>1066</td>\n",
       "      <td>1014</td>\n",
       "      <td>725</td>\n",
       "      <td>1062</td>\n",
       "      <td>2016</td>\n",
       "      <td>2016</td>\n",
       "      <td>2120</td>\n",
       "      <td>2024</td>\n",
       "      <td>2124</td>\n",
       "      <td>2132</td>\n",
       "      <td>2132</td>\n",
       "    </tr>\n",
       "  </tbody>\n",
       "</table><p>*Number of related records cached.</p></div>"
      ]
     },
     "metadata": {},
     "output_type": "display_data"
    }
   ],
   "source": [
    "svchost = GET process\n",
    "          FROM file:///tmp/lab101.json\n",
    "          WHERE [process:name = 'svchost.exe']\n",
    "          START t'2021-04-03T00:00:00Z' STOP t'2021-04-03T02:00:00Z'"
   ]
  },
  {
   "cell_type": "markdown",
   "id": "887bb13b",
   "metadata": {},
   "source": [
    "### 2. How to `GET` data from a Kestrel variable?\n",
    "\n",
    "`GET` can be used against a data source or a Kestrel variable, both are _a pool of entities_. The differences are:\n",
    "- A data source contains multiple types of entities, while a Kestrel variable only has one type.\n",
    "- The execution of `GET` against a data source sends queries to the data source, while the execution of `GET` against a Kestrel variable is performed on the local cache of the variable.\n",
    "\n",
    "In the first task, you get all `svchost.exe` processes. Let's get a subset of them that are Windows schedulers, which have argument or command line `-k netsvcs -p -s Schedule`."
   ]
  },
  {
   "cell_type": "code",
   "execution_count": 2,
   "id": "f6e065b8",
   "metadata": {},
   "outputs": [
    {
     "name": "stderr",
     "output_type": "stream",
     "text": []
    },
    {
     "data": {
      "text/html": [
       "<div><h4>Block Executed in 1 seconds</h4><table border=\"1\" class=\"dataframe\">\n",
       "  <thead>\n",
       "    <tr style=\"text-align: right;\">\n",
       "      <th>VARIABLE</th>\n",
       "      <th>TYPE</th>\n",
       "      <th>#(ENTITIES)</th>\n",
       "      <th>#(RECORDS)</th>\n",
       "      <th>directory*</th>\n",
       "      <th>file*</th>\n",
       "      <th>ipv4-addr*</th>\n",
       "      <th>ipv6-addr*</th>\n",
       "      <th>mac-addr*</th>\n",
       "      <th>network-traffic*</th>\n",
       "      <th>process*</th>\n",
       "      <th>user-account*</th>\n",
       "      <th>x-ecs-destination*</th>\n",
       "      <th>x-ecs-network*</th>\n",
       "      <th>x-ecs-process*</th>\n",
       "      <th>x-ecs-source*</th>\n",
       "      <th>x-ecs-user*</th>\n",
       "      <th>x-oca-asset*</th>\n",
       "      <th>x-oca-event*</th>\n",
       "    </tr>\n",
       "  </thead>\n",
       "  <tbody>\n",
       "    <tr>\n",
       "      <td>scheduler</td>\n",
       "      <td>process</td>\n",
       "      <td>18</td>\n",
       "      <td>18</td>\n",
       "      <td>0</td>\n",
       "      <td>0</td>\n",
       "      <td>0</td>\n",
       "      <td>0</td>\n",
       "      <td>0</td>\n",
       "      <td>0</td>\n",
       "      <td>0</td>\n",
       "      <td>0</td>\n",
       "      <td>0</td>\n",
       "      <td>0</td>\n",
       "      <td>0</td>\n",
       "      <td>0</td>\n",
       "      <td>0</td>\n",
       "      <td>0</td>\n",
       "      <td>0</td>\n",
       "    </tr>\n",
       "  </tbody>\n",
       "</table><p>*Number of related records cached.</p></div>"
      ]
     },
     "metadata": {},
     "output_type": "display_data"
    }
   ],
   "source": [
    "scheduler = GET process\n",
    "            FROM svchost\n",
    "            WHERE [process:command_line = 'C:\\Windows\\system32\\svchost.exe -k netsvcs -p -s Schedule']"
   ]
  },
  {
   "cell_type": "markdown",
   "id": "65809abe",
   "metadata": {},
   "source": [
    "When getting entities from a Kestrel variable, the syntax can be simplified into:"
   ]
  },
  {
   "cell_type": "code",
   "execution_count": 3,
   "id": "dd869aee",
   "metadata": {},
   "outputs": [
    {
     "name": "stderr",
     "output_type": "stream",
     "text": []
    },
    {
     "data": {
      "text/html": [
       "<div><h4>Block Executed in 1 seconds</h4><table border=\"1\" class=\"dataframe\">\n",
       "  <thead>\n",
       "    <tr style=\"text-align: right;\">\n",
       "      <th>VARIABLE</th>\n",
       "      <th>TYPE</th>\n",
       "      <th>#(ENTITIES)</th>\n",
       "      <th>#(RECORDS)</th>\n",
       "      <th>directory*</th>\n",
       "      <th>file*</th>\n",
       "      <th>ipv4-addr*</th>\n",
       "      <th>ipv6-addr*</th>\n",
       "      <th>mac-addr*</th>\n",
       "      <th>network-traffic*</th>\n",
       "      <th>process*</th>\n",
       "      <th>user-account*</th>\n",
       "      <th>x-ecs-destination*</th>\n",
       "      <th>x-ecs-network*</th>\n",
       "      <th>x-ecs-process*</th>\n",
       "      <th>x-ecs-source*</th>\n",
       "      <th>x-ecs-user*</th>\n",
       "      <th>x-oca-asset*</th>\n",
       "      <th>x-oca-event*</th>\n",
       "    </tr>\n",
       "  </thead>\n",
       "  <tbody>\n",
       "    <tr>\n",
       "      <td>scheduler2</td>\n",
       "      <td>process</td>\n",
       "      <td>18</td>\n",
       "      <td>18</td>\n",
       "      <td>0</td>\n",
       "      <td>0</td>\n",
       "      <td>0</td>\n",
       "      <td>0</td>\n",
       "      <td>0</td>\n",
       "      <td>0</td>\n",
       "      <td>0</td>\n",
       "      <td>0</td>\n",
       "      <td>0</td>\n",
       "      <td>0</td>\n",
       "      <td>0</td>\n",
       "      <td>0</td>\n",
       "      <td>0</td>\n",
       "      <td>0</td>\n",
       "      <td>0</td>\n",
       "    </tr>\n",
       "  </tbody>\n",
       "</table><p>*Number of related records cached.</p></div>"
      ]
     },
     "metadata": {},
     "output_type": "display_data"
    }
   ],
   "source": [
    "# this is equivalent to the previous Kestrel statement, i.e., scheduler == scheduler2\n",
    "scheduler2 = svchost WHERE command_line = 'C:\\Windows\\system32\\svchost.exe -k netsvcs -p -s Schedule'"
   ]
  },
  {
   "cell_type": "markdown",
   "id": "5b32327f",
   "metadata": {},
   "source": [
    "### 3. How to refer to a Kestrel variable in a `GET` command?\n",
    "\n",
    "By default, you can use a [STIX pattern](http://docs.oasis-open.org/cti/stix/v2.0/stix-v2.0-part5-stix-patterning.html) in the `WHERE` clause of `GET`. You can go beyond standard STIX pattern to refer to a Kestrel variable in the pattern, a.k.a., parameterized STIX pattern. This is useful when you want to create new hunt steps based on the previous ones, bring data/knowledge from other Kestrel variables (will learn in the next task), or hunt across multiple data sources.\n",
    "\n",
    "You will get all processes with the `PID` of the scheduler processes, but in a broader time range: instead of the 2 hours specified in the first task `START t'2021-04-03T00:00:00Z' STOP t'2021-04-03T02:00:00Z'`, you will query on the entire day `2021-04-03`."
   ]
  },
  {
   "cell_type": "code",
   "execution_count": 4,
   "id": "5e652e6b",
   "metadata": {},
   "outputs": [
    {
     "name": "stderr",
     "output_type": "stream",
     "text": []
    },
    {
     "data": {
      "text/html": [
       "<div><h4>Block Executed in 1 seconds</h4><table border=\"1\" class=\"dataframe\">\n",
       "  <thead>\n",
       "    <tr style=\"text-align: right;\">\n",
       "      <th>VARIABLE</th>\n",
       "      <th>TYPE</th>\n",
       "      <th>#(ENTITIES)</th>\n",
       "      <th>#(RECORDS)</th>\n",
       "      <th>directory*</th>\n",
       "      <th>file*</th>\n",
       "      <th>ipv4-addr*</th>\n",
       "      <th>ipv6-addr*</th>\n",
       "      <th>mac-addr*</th>\n",
       "      <th>network-traffic*</th>\n",
       "      <th>process*</th>\n",
       "      <th>user-account*</th>\n",
       "      <th>x-ecs-destination*</th>\n",
       "      <th>x-ecs-network*</th>\n",
       "      <th>x-ecs-process*</th>\n",
       "      <th>x-ecs-source*</th>\n",
       "      <th>x-ecs-user*</th>\n",
       "      <th>x-oca-asset*</th>\n",
       "      <th>x-oca-event*</th>\n",
       "    </tr>\n",
       "  </thead>\n",
       "  <tbody>\n",
       "    <tr>\n",
       "      <td>scheduler3</td>\n",
       "      <td>process</td>\n",
       "      <td>18</td>\n",
       "      <td>18</td>\n",
       "      <td>1101</td>\n",
       "      <td>1150</td>\n",
       "      <td>3226</td>\n",
       "      <td>1928</td>\n",
       "      <td>1084</td>\n",
       "      <td>1014</td>\n",
       "      <td>1132</td>\n",
       "      <td>1080</td>\n",
       "      <td>2016</td>\n",
       "      <td>2016</td>\n",
       "      <td>2210</td>\n",
       "      <td>2024</td>\n",
       "      <td>2214</td>\n",
       "      <td>2222</td>\n",
       "      <td>2222</td>\n",
       "    </tr>\n",
       "  </tbody>\n",
       "</table><p>*Number of related records cached.</p></div>"
      ]
     },
     "metadata": {},
     "output_type": "display_data"
    }
   ],
   "source": [
    "scheduler3 = GET process\n",
    "             FROM file:///tmp/lab101.json\n",
    "             WHERE [process:pid = scheduler.pid]\n",
    "             START t'2021-04-03T00:00:00Z' STOP t'2021-04-04T00:00:00Z'"
   ]
  },
  {
   "cell_type": "markdown",
   "id": "257f9441",
   "metadata": {},
   "source": [
    "You now get 72 line of logs, which describes the single scheduler process.\n",
    "\n",
    "If you write the `GET` command against a new data source, then you can perform the hunt across two data sources. This is the common technique to hunt across multiple data sources such as firewall logs and EDR systems, e.g. in our RSA demo of a [cross-host APT hunt](https://www.youtube.com/watch?v=tASFWZfD7l8)."
   ]
  },
  {
   "cell_type": "markdown",
   "id": "1842f819",
   "metadata": {},
   "source": [
    "### 4. How to combine `NEW` and `GET` in a hunt flow?\n",
    "\n",
    "You may want to find `network-traffic` with a source/destination IP address. You can simply write the IP in the `WHERE` clause of the `GET`, but you need to write the same string again if you need it in another `GET`. Is there a way to store the IP address in a Kestrel variable and refer to it in the following hunt?\n",
    "\n",
    "Note a Kestrel variable is a list of entities, and it cannot hold a string. However, you can `NEW` an `ipv4-addr` or `ipv6-addr` entity with the IP addresses as its attribute into a Kestrel variable."
   ]
  },
  {
   "cell_type": "code",
   "execution_count": 5,
   "id": "800e9cae",
   "metadata": {},
   "outputs": [
    {
     "name": "stderr",
     "output_type": "stream",
     "text": []
    },
    {
     "data": {
      "text/html": [
       "<div><h4>Block Executed in 1 seconds</h4><table border=\"1\" class=\"dataframe\">\n",
       "  <thead>\n",
       "    <tr style=\"text-align: right;\">\n",
       "      <th>VARIABLE</th>\n",
       "      <th>TYPE</th>\n",
       "      <th>#(ENTITIES)</th>\n",
       "      <th>#(RECORDS)</th>\n",
       "      <th>directory*</th>\n",
       "      <th>file*</th>\n",
       "      <th>ipv4-addr*</th>\n",
       "      <th>ipv6-addr*</th>\n",
       "      <th>mac-addr*</th>\n",
       "      <th>network-traffic*</th>\n",
       "      <th>process*</th>\n",
       "      <th>user-account*</th>\n",
       "      <th>x-ecs-destination*</th>\n",
       "      <th>x-ecs-network*</th>\n",
       "      <th>x-ecs-process*</th>\n",
       "      <th>x-ecs-source*</th>\n",
       "      <th>x-ecs-user*</th>\n",
       "      <th>x-oca-asset*</th>\n",
       "      <th>x-oca-event*</th>\n",
       "    </tr>\n",
       "  </thead>\n",
       "  <tbody>\n",
       "    <tr>\n",
       "      <td>winlaptop141</td>\n",
       "      <td>ipv4-addr</td>\n",
       "      <td>1</td>\n",
       "      <td>533</td>\n",
       "      <td>0</td>\n",
       "      <td>0</td>\n",
       "      <td>0</td>\n",
       "      <td>0</td>\n",
       "      <td>0</td>\n",
       "      <td>0</td>\n",
       "      <td>0</td>\n",
       "      <td>0</td>\n",
       "      <td>0</td>\n",
       "      <td>0</td>\n",
       "      <td>0</td>\n",
       "      <td>0</td>\n",
       "      <td>0</td>\n",
       "      <td>0</td>\n",
       "      <td>0</td>\n",
       "    </tr>\n",
       "    <tr>\n",
       "      <td>nt_src141</td>\n",
       "      <td>network-traffic</td>\n",
       "      <td>23</td>\n",
       "      <td>29</td>\n",
       "      <td>1107</td>\n",
       "      <td>1143</td>\n",
       "      <td>3277</td>\n",
       "      <td>1939</td>\n",
       "      <td>1095</td>\n",
       "      <td>1020</td>\n",
       "      <td>1143</td>\n",
       "      <td>1091</td>\n",
       "      <td>2161</td>\n",
       "      <td>2161</td>\n",
       "      <td>2301</td>\n",
       "      <td>2169</td>\n",
       "      <td>2305</td>\n",
       "      <td>2313</td>\n",
       "      <td>2313</td>\n",
       "    </tr>\n",
       "  </tbody>\n",
       "</table><p>*Number of related records cached.</p></div>"
      ]
     },
     "metadata": {},
     "output_type": "display_data"
    }
   ],
   "source": [
    "winlaptop141 = NEW ipv4-addr [\"10.171.5.141\"]\n",
    "\n",
    "nt_src141 = GET network-traffic\n",
    "            WHERE [network-traffic:src_ref.value = winlaptop141.value]\n",
    "            START t'2021-04-03T00:00:00Z' STOP t'2021-04-04T00:00:00Z'"
   ]
  },
  {
   "cell_type": "markdown",
   "id": "6f727ae0",
   "metadata": {},
   "source": [
    "Note that you omit the `FROM` clause in the `GET`, which will default to the last data source (`file:///tmp/lab101.json`) you executed in the hunt."
   ]
  },
  {
   "cell_type": "markdown",
   "id": "30ca812e",
   "metadata": {},
   "source": [
    "### 5. Exercise: get network-traffic with destination IP\n",
    "\n",
    "Can you get `network-traffic` with destination IP `13.86.101.172` on the day `2021-04-03` from the same data source?\n",
    "\n",
    "Tip: if you want to omit the `FROM` clause, you need to execute any hunt step in this hunt book with `FROM` first.\\\n",
    "Tip: the destination IP attribute of `network-traffic` is `dst_ref.value`."
   ]
  },
  {
   "cell_type": "code",
   "execution_count": null,
   "id": "a58da2f1",
   "metadata": {},
   "outputs": [],
   "source": []
  }
 ],
 "metadata": {
  "kernelspec": {
   "display_name": "Kestrel",
   "language": "kestrel",
   "name": "kestrel"
  },
  "language_info": {
   "codemirror_mode": "kestrel",
   "name": "Kestrel"
  }
 },
 "nbformat": 4,
 "nbformat_minor": 5
}
