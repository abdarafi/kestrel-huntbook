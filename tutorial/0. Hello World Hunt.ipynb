{
 "cells": [
  {
   "cell_type": "markdown",
   "id": "22923fa3",
   "metadata": {},
   "source": [
    "# Hello World Hunt\n",
    "\n",
    "You will start your first cyber threat hunt in this hunt book and learn basic concepts of the [Kestrel threat hunting language](https://github.com/opencybersecurityalliance/kestrel-lang). If you are new to cyber threat hunting, or haven't heard about Kestrel, check out [What is Kestrel?](https://kestrel.readthedocs.io/en/latest/overview/) in [Kestrel documentation portal](https://kestrel.readthedocs.io/). Kestrel is announced at [RSA Conference 2021](https://www.rsaconference.com/Library/presentation/USA/2021/The%20Game%20of%20Cyber%20Threat%20Hunting%20The%20Return%20of%20the%20Fun), presented at [SANS Threat Hunting Summit 2021](https://www.youtube.com/watch?v=gyY5DAWLwT0), [BlackHat Europe 2021](https://www.blackhat.com/eu-21/arsenal/schedule/index.html#an-open-stack-for-threat-hunting-in-hybrid-cloud-with-connected-observability-25112), and demoed at [Infosec Jupyterthon 2021](https://www.youtube.com/watch?v=nMnHBnYfIaI&t=20557s)."
   ]
  },
  {
   "cell_type": "markdown",
   "id": "19ef26e1",
   "metadata": {},
   "source": [
    "## What you will learn\n",
    "\n",
    "0. What are the basic concepts to orgainze a reusable/shareable hunt?\n",
    "1. How to use `NEW` command to create entities in a Kestrel variable?\n",
    "2. How to use `GET` command to retrieve a set of entities from a Kestrel variable?\n",
    "3. How to display entities in a Kestrel variable?\n",
    "4. How to execute the hello world hunt?\n",
    "5. Exercise: multi-hunt-step Jupyter cell"
   ]
  },
  {
   "cell_type": "markdown",
   "id": "c738c0f5",
   "metadata": {},
   "source": [
    "### 0. What are the basic terminology/concepts to orgainze a reusable/shareable hunt?\n",
    "\n",
    "- [Record](https://kestrel.readthedocs.io/en/stable/language/tac.html#record): a.k.a. logs\n",
    "- [Entity](https://kestrel.readthedocs.io/en/stable/language/tac.html#entity): e.g., process, file, IP, register key\n",
    "- [Hunt](https://kestrel.readthedocs.io/en/stable/language/tac.html#hunt): the threat discovery procedure\n",
    "- [Hunt Step](https://kestrel.readthedocs.io/en/stable/language/tac.html#hunt-step): atom hunting operation\n",
    "- [Hunt Flow](https://kestrel.readthedocs.io/en/stable/language/tac.html#hunt-flow): business logic of a hunt\n",
    "- [Hunt Book](https://kestrel.readthedocs.io/en/stable/language/tac.html#huntbook): we are in a hunt book now\n",
    "- [Entity-Based Reasoning](https://kestrel.readthedocs.io/en/stable/language/tac.html#entity-based-reasoning): the model for reasoning in Kestrel\n",
    "- [Composable Hunt Flow](https://kestrel.readthedocs.io/en/stable/language/tac.html#composable-hunt-flow): the enabler of shrable and reusable hunts"
   ]
  },
  {
   "cell_type": "markdown",
   "id": "bc1808ac",
   "metadata": {},
   "source": [
    "###  1. How to use `NEW` command to create entities in a Kestrel variable?"
   ]
  },
  {
   "cell_type": "code",
   "execution_count": 1,
   "id": "bac9036a",
   "metadata": {},
   "outputs": [
    {
     "name": "stderr",
     "output_type": "stream",
     "text": []
    },
    {
     "data": {
      "text/html": [
       "<div><h4>Block Executed in 1 seconds</h4><table border=\"1\" class=\"dataframe\">\n",
       "  <thead>\n",
       "    <tr style=\"text-align: right;\">\n",
       "      <th>VARIABLE</th>\n",
       "      <th>TYPE</th>\n",
       "      <th>#(ENTITIES)</th>\n",
       "      <th>#(RECORDS)</th>\n",
       "      <th>process*</th>\n",
       "    </tr>\n",
       "  </thead>\n",
       "  <tbody>\n",
       "    <tr>\n",
       "      <td>proclist</td>\n",
       "      <td>process</td>\n",
       "      <td>4</td>\n",
       "      <td>4</td>\n",
       "      <td>0</td>\n",
       "    </tr>\n",
       "  </tbody>\n",
       "</table><p>*Number of related records cached.</p></div>"
      ]
     },
     "metadata": {},
     "output_type": "display_data"
    }
   ],
   "source": [
    "# create four process entities in Kestrel and store them in the variable `proclist`\n",
    "proclist = NEW process [ {\"name\": \"cmd.exe\", \"pid\": \"123\"}\n",
    "                       , {\"name\": \"explorer.exe\", \"pid\": \"99\"}\n",
    "                       , {\"name\": \"firefox.exe\", \"pid\": \"201\"}\n",
    "                       , {\"name\": \"chrome.exe\", \"pid\": \"205\"}\n",
    "                       ]"
   ]
  },
  {
   "cell_type": "markdown",
   "id": "b5958aaa",
   "metadata": {},
   "source": [
    "### 2. How to use `GET` command to retrieve a set of entities from a Kestrel variable?"
   ]
  },
  {
   "cell_type": "code",
   "execution_count": 2,
   "id": "ab29a91b",
   "metadata": {},
   "outputs": [
    {
     "name": "stderr",
     "output_type": "stream",
     "text": []
    },
    {
     "data": {
      "text/html": [
       "<div><h4>Block Executed in 1 seconds</h4><table border=\"1\" class=\"dataframe\">\n",
       "  <thead>\n",
       "    <tr style=\"text-align: right;\">\n",
       "      <th>VARIABLE</th>\n",
       "      <th>TYPE</th>\n",
       "      <th>#(ENTITIES)</th>\n",
       "      <th>#(RECORDS)</th>\n",
       "      <th>process*</th>\n",
       "    </tr>\n",
       "  </thead>\n",
       "  <tbody>\n",
       "    <tr>\n",
       "      <td>browsers</td>\n",
       "      <td>process</td>\n",
       "      <td>2</td>\n",
       "      <td>2</td>\n",
       "      <td>0</td>\n",
       "    </tr>\n",
       "  </tbody>\n",
       "</table><p>*Number of related records cached.</p></div>"
      ]
     },
     "metadata": {},
     "output_type": "display_data"
    }
   ],
   "source": [
    "# match a pattern of browser processes, and put the matched entities in variable `browsers`\n",
    "browsers = GET process FROM proclist WHERE name IN ('firefox.exe', 'chrome.exe')"
   ]
  },
  {
   "cell_type": "markdown",
   "id": "e1a2ad73",
   "metadata": {},
   "source": [
    "### 3. How to display entities in a Kestrel variable?"
   ]
  },
  {
   "cell_type": "code",
   "execution_count": 3,
   "id": "58037257",
   "metadata": {},
   "outputs": [
    {
     "name": "stderr",
     "output_type": "stream",
     "text": []
    },
    {
     "data": {
      "text/html": [
       "<table border=\"1\" class=\"dataframe\">\n",
       "  <thead>\n",
       "    <tr style=\"text-align: right;\">\n",
       "      <th>name</th>\n",
       "      <th>pid</th>\n",
       "    </tr>\n",
       "  </thead>\n",
       "  <tbody>\n",
       "    <tr>\n",
       "      <td>firefox.exe</td>\n",
       "      <td>201</td>\n",
       "    </tr>\n",
       "    <tr>\n",
       "      <td>chrome.exe</td>\n",
       "      <td>205</td>\n",
       "    </tr>\n",
       "  </tbody>\n",
       "</table>"
      ]
     },
     "metadata": {},
     "output_type": "display_data"
    }
   ],
   "source": [
    "# display the information (attributes name, pid) of the entities in variable `browsers`\n",
    "DISP browsers ATTR name, pid"
   ]
  },
  {
   "cell_type": "markdown",
   "id": "4aea91f5",
   "metadata": {},
   "source": [
    "### 4. How to execute the hello world hunt?\n",
    "\n",
    "To run the entire hunt book:\n",
    "- In the menu, choose `Kernel` -> `Restart & Run All`, or\n",
    "- In the tool bar right below the menu, click the *fast forward* (dual-triangle) button.\n",
    "\n",
    "To execute a single Jupyter cell with all hunt steps in it, go to the cell and press `Shift` + `Enter`.\n",
    "\n",
    "Note that the hunt steps with Kestrel variables may be dependent on previous hunt steps, e.g., the second hunt step (`GET process FROM proclist ...`) requires the first hunt step (`proclist = NEW ...`) to be executed, since the Kestrel variable `proclist` is referred from the first hunt step.\n",
    "\n",
    "When you lanuch the hunt book with the Kestrel kernel, or restart the kernel, a new Kestrel session is initialized with zero Kestrel variables established."
   ]
  },
  {
   "cell_type": "markdown",
   "id": "ed343a77",
   "metadata": {},
   "source": [
    "### 5. Exercise: multi-hunt-step Jupyter cell\n",
    "\n",
    "A Jupyter Notebook cell can host any number of Kestrel hunt steps. Copy the three hunt steps above into the single cell below and execute them together."
   ]
  },
  {
   "cell_type": "code",
   "execution_count": null,
   "id": "dc09db75",
   "metadata": {},
   "outputs": [],
   "source": []
  }
 ],
 "metadata": {
  "kernelspec": {
   "display_name": "Kestrel",
   "language": "kestrel",
   "name": "kestrel"
  },
  "language_info": {
   "file_extension": ".hf",
   "name": "kestrel"
  }
 },
 "nbformat": 4,
 "nbformat_minor": 5
}
