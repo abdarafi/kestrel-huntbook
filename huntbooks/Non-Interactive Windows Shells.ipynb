{
 "cells": [
  {
   "cell_type": "markdown",
   "id": "6b5dc9b8",
   "metadata": {},
   "source": [
    "# Non-interactive Windows Shells\n",
    "\n",
    "https://attack.mitre.org/techniques/T1059/\n",
    "\n",
    "Search for `powershell` or `cmd` running non-interactively; i.e. not started by `explorer.exe`. \n",
    "\n",
    "This isn't necessarily malicious, so further environment-specific filtering woul dbe necessry to operationalize.\n",
    "\n",
    "Dataset from https://securitydatasets.com/notebooks/atomic/windows/defense_evasion/SDWIN-201022025808.html\n",
    "\n"
   ]
  },
  {
   "cell_type": "code",
   "execution_count": 1,
   "id": "e88bb160",
   "metadata": {},
   "outputs": [
    {
     "name": "stderr",
     "output_type": "stream",
     "text": []
    },
    {
     "data": {
      "text/html": [
       "<table border=\"1\" class=\"dataframe\">\n",
       "  <thead>\n",
       "    <tr style=\"text-align: right;\">\n",
       "      <th>pid</th>\n",
       "      <th>binary_ref.name</th>\n",
       "      <th>command_line</th>\n",
       "      <th>parent_ref.pid</th>\n",
       "      <th>parent_ref.binary_ref.name</th>\n",
       "    </tr>\n",
       "  </thead>\n",
       "  <tbody>\n",
       "    <tr>\n",
       "      <td>9572</td>\n",
       "      <td>powershell.exe</td>\n",
       "      <td>None</td>\n",
       "      <td></td>\n",
       "      <td>None</td>\n",
       "    </tr>\n",
       "    <tr>\n",
       "      <td>9572</td>\n",
       "      <td>powershell.exe</td>\n",
       "      <td>\"C:\\Windows\\System32\\WindowsPowerShell\\v1.0\\powershell.exe\" -noexit -command Get-Service sysmon</td>\n",
       "      <td>10980.0</td>\n",
       "      <td>mshta.exe</td>\n",
       "    </tr>\n",
       "  </tbody>\n",
       "</table>\n",
       "<div><h4>Block Executed in 3 seconds</h4><table border=\"1\" class=\"dataframe\">\n",
       "  <thead>\n",
       "    <tr style=\"text-align: right;\">\n",
       "      <th>VARIABLE</th>\n",
       "      <th>TYPE</th>\n",
       "      <th>#(ENTITIES)</th>\n",
       "      <th>#(RECORDS)</th>\n",
       "      <th>artifact*</th>\n",
       "      <th>directory*</th>\n",
       "      <th>file*</th>\n",
       "      <th>process*</th>\n",
       "      <th>user-account*</th>\n",
       "      <th>windows-registry-key*</th>\n",
       "      <th>x-oca-asset*</th>\n",
       "      <th>x-oca-event*</th>\n",
       "    </tr>\n",
       "  </thead>\n",
       "  <tbody>\n",
       "    <tr>\n",
       "      <td>ps</td>\n",
       "      <td>process</td>\n",
       "      <td>41</td>\n",
       "      <td>668</td>\n",
       "      <td>668</td>\n",
       "      <td>766</td>\n",
       "      <td>768</td>\n",
       "      <td>633</td>\n",
       "      <td>156</td>\n",
       "      <td>398</td>\n",
       "      <td>668</td>\n",
       "      <td>668</td>\n",
       "    </tr>\n",
       "  </tbody>\n",
       "</table><p>*Number of related records cached.</p></div>"
      ]
     },
     "metadata": {},
     "output_type": "display_data"
    }
   ],
   "source": [
    "ps = GET process\n",
    "     FROM https://raw.githubusercontent.com/OTRF/Security-Datasets/master/datasets/atomic/windows/defense_evasion/host/cmd_mshta_vbscript_execute_psh.zip\n",
    "     WHERE [process:binary_ref.name IN ('cmd.exe', 'powershell.exe') AND process:parent_ref.binary_ref.name != 'explorer.exe']\n",
    "DISP ps ATTR pid, binary_ref.name, command_line, parent_ref.pid, parent_ref.binary_ref.name"
   ]
  },
  {
   "cell_type": "markdown",
   "id": "cb2f5ce3",
   "metadata": {},
   "source": [
    "We got a hit (process ID 9572), so we can manually inspect the command line to figure out what's going on.  The `Get-Service` cmdlet returns information about services on the host.  Here's it's requesting information on `sysmon`, an important service for securty monitoring.  Perhaps this is some reconnaissance?\n",
    "\n",
    "Let's try to see where this command came from by moving up the process tree..."
   ]
  },
  {
   "cell_type": "code",
   "execution_count": 2,
   "id": "c343c18d",
   "metadata": {},
   "outputs": [
    {
     "name": "stderr",
     "output_type": "stream",
     "text": []
    },
    {
     "data": {
      "text/html": [
       "<table border=\"1\" class=\"dataframe\">\n",
       "  <thead>\n",
       "    <tr style=\"text-align: right;\">\n",
       "      <th>pid</th>\n",
       "      <th>name</th>\n",
       "      <th>command_line</th>\n",
       "      <th>parent_ref.pid</th>\n",
       "      <th>parent_ref.binary_ref.name</th>\n",
       "    </tr>\n",
       "  </thead>\n",
       "  <tbody>\n",
       "    <tr>\n",
       "      <td>10980</td>\n",
       "      <td>mshta.exe</td>\n",
       "      <td>mshta  vbscript:Execute(\"CreateObject(\"\"Wscript.Shell\"\").Run \"\"powershell -noexit -command Get-Service sysmon\"\":close\")</td>\n",
       "      <td>5888.0</td>\n",
       "      <td>cmd.exe</td>\n",
       "    </tr>\n",
       "    <tr>\n",
       "      <td>10980</td>\n",
       "      <td>mshta.exe</td>\n",
       "      <td>None</td>\n",
       "      <td></td>\n",
       "      <td>None</td>\n",
       "    </tr>\n",
       "  </tbody>\n",
       "</table>\n",
       "<div><h4>Block Executed in 1 seconds</h4><table border=\"1\" class=\"dataframe\">\n",
       "  <thead>\n",
       "    <tr style=\"text-align: right;\">\n",
       "      <th>VARIABLE</th>\n",
       "      <th>TYPE</th>\n",
       "      <th>#(ENTITIES)</th>\n",
       "      <th>#(RECORDS)</th>\n",
       "      <th>artifact*</th>\n",
       "      <th>directory*</th>\n",
       "      <th>file*</th>\n",
       "      <th>process*</th>\n",
       "      <th>user-account*</th>\n",
       "      <th>windows-registry-key*</th>\n",
       "      <th>x-oca-asset*</th>\n",
       "      <th>x-oca-event*</th>\n",
       "    </tr>\n",
       "  </thead>\n",
       "  <tbody>\n",
       "    <tr>\n",
       "      <td>parents</td>\n",
       "      <td>process</td>\n",
       "      <td>11</td>\n",
       "      <td>145</td>\n",
       "      <td>809</td>\n",
       "      <td>913</td>\n",
       "      <td>1005</td>\n",
       "      <td>808</td>\n",
       "      <td>185</td>\n",
       "      <td>417</td>\n",
       "      <td>809</td>\n",
       "      <td>809</td>\n",
       "    </tr>\n",
       "  </tbody>\n",
       "</table><p>*Number of related records cached.</p></div>"
      ]
     },
     "metadata": {},
     "output_type": "display_data"
    }
   ],
   "source": [
    "parents = FIND process CREATED ps\n",
    "DISP parents ATTR pid, name, command_line, parent_ref.pid, parent_ref.binary_ref.name"
   ]
  },
  {
   "cell_type": "markdown",
   "id": "8e2e99dc",
   "metadata": {},
   "source": [
    "The parent process is `mshta.exe` - the Microsoft HTML Application Host.  This program can be used to run VBScript (as it's doing here), among other things.  It has been known to be used in \"living off the land\" attacks (see https://attack.mitre.org/techniques/T1218/005/ to read about this particular usage).\n",
    "\n",
    "Can we take another step up the tree?"
   ]
  },
  {
   "cell_type": "code",
   "execution_count": 3,
   "id": "737d1dfa",
   "metadata": {},
   "outputs": [
    {
     "name": "stderr",
     "output_type": "stream",
     "text": []
    },
    {
     "data": {
      "text/html": [
       "<table border=\"1\" class=\"dataframe\">\n",
       "  <thead>\n",
       "    <tr style=\"text-align: right;\">\n",
       "      <th>pid</th>\n",
       "      <th>name</th>\n",
       "      <th>command_line</th>\n",
       "      <th>parent_ref.pid</th>\n",
       "      <th>parent_ref.binary_ref.name</th>\n",
       "    </tr>\n",
       "  </thead>\n",
       "  <tbody>\n",
       "    <tr>\n",
       "      <td>5888</td>\n",
       "      <td>cmd.exe</td>\n",
       "      <td>None</td>\n",
       "      <td>None</td>\n",
       "      <td>None</td>\n",
       "    </tr>\n",
       "    <tr>\n",
       "      <td>5888</td>\n",
       "      <td>cmd.exe</td>\n",
       "      <td>\"C:\\windows\\system32\\cmd.exe\"</td>\n",
       "      <td>None</td>\n",
       "      <td>None</td>\n",
       "    </tr>\n",
       "  </tbody>\n",
       "</table>\n",
       "<div><h4>Block Executed in 1 seconds</h4><table border=\"1\" class=\"dataframe\">\n",
       "  <thead>\n",
       "    <tr style=\"text-align: right;\">\n",
       "      <th>VARIABLE</th>\n",
       "      <th>TYPE</th>\n",
       "      <th>#(ENTITIES)</th>\n",
       "      <th>#(RECORDS)</th>\n",
       "      <th>artifact*</th>\n",
       "      <th>directory*</th>\n",
       "      <th>file*</th>\n",
       "      <th>process*</th>\n",
       "      <th>user-account*</th>\n",
       "      <th>windows-registry-key*</th>\n",
       "      <th>x-oca-asset*</th>\n",
       "      <th>x-oca-event*</th>\n",
       "    </tr>\n",
       "  </thead>\n",
       "  <tbody>\n",
       "    <tr>\n",
       "      <td>grandparents</td>\n",
       "      <td>process</td>\n",
       "      <td>2</td>\n",
       "      <td>5</td>\n",
       "      <td>144</td>\n",
       "      <td>150</td>\n",
       "      <td>243</td>\n",
       "      <td>148</td>\n",
       "      <td>31</td>\n",
       "      <td>19</td>\n",
       "      <td>144</td>\n",
       "      <td>144</td>\n",
       "    </tr>\n",
       "  </tbody>\n",
       "</table><p>*Number of related records cached.</p></div>"
      ]
     },
     "metadata": {},
     "output_type": "display_data"
    }
   ],
   "source": [
    "grandparents = FIND process CREATED parents\n",
    "DISP grandparents ATTR pid, name, command_line, parent_ref.pid, parent_ref.binary_ref.name"
   ]
  },
  {
   "cell_type": "markdown",
   "id": "edabfaa6",
   "metadata": {},
   "source": [
    "So `mshta.exe` was run by `cmd.exe`, but here we hit a dead end.  There's no further info in this data, and if we read the description of how this data was generated we see that `cmd.exe` was run manually in the adversarial simulation."
   ]
  },
  {
   "cell_type": "code",
   "execution_count": null,
   "id": "b778d203",
   "metadata": {},
   "outputs": [],
   "source": []
  }
 ],
 "metadata": {
  "kernelspec": {
   "display_name": "Kestrel",
   "language": "kestrel",
   "name": "kestrel"
  },
  "language_info": {
   "codemirror_mode": "kestrel",
   "name": "Kestrel"
  }
 },
 "nbformat": 4,
 "nbformat_minor": 5
}
