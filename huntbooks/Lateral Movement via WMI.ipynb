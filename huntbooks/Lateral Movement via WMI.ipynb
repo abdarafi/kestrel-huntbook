{
 "cells": [
  {
   "cell_type": "markdown",
   "id": "e0efa12e",
   "metadata": {},
   "source": [
    "# Lateral movement via WMI\n",
    "https://attack.mitre.org/techniques/T1047/\n",
    "\n",
    "## Example Data Source\n",
    "https://securitydatasets.com/notebooks/atomic/windows/lateral_movement/SDWIN-200914080546.html"
   ]
  },
  {
   "cell_type": "markdown",
   "id": "b6442559-1604-482a-a2b9-157aa97fd774",
   "metadata": {},
   "source": [
    "Let's start by looking for any WMIC activity:"
   ]
  },
  {
   "cell_type": "code",
   "execution_count": 7,
   "id": "bf2aa1d6",
   "metadata": {},
   "outputs": [
    {
     "name": "stderr",
     "output_type": "stream",
     "text": []
    },
    {
     "data": {
      "text/html": [
       "<div><h4>Block Executed in 7 seconds</h4><table border=\"1\" class=\"dataframe\">\n",
       "  <thead>\n",
       "    <tr style=\"text-align: right;\">\n",
       "      <th>VARIABLE</th>\n",
       "      <th>TYPE</th>\n",
       "      <th>#(ENTITIES)</th>\n",
       "      <th>#(RECORDS)</th>\n",
       "      <th>artifact*</th>\n",
       "      <th>directory*</th>\n",
       "      <th>file*</th>\n",
       "      <th>ipv4-addr*</th>\n",
       "      <th>network-traffic*</th>\n",
       "      <th>process*</th>\n",
       "      <th>user-account*</th>\n",
       "      <th>windows-registry-key*</th>\n",
       "      <th>x-oca-asset*</th>\n",
       "      <th>x-oca-event*</th>\n",
       "    </tr>\n",
       "  </thead>\n",
       "  <tbody>\n",
       "    <tr>\n",
       "      <td>wmic_procs</td>\n",
       "      <td>process</td>\n",
       "      <td>26</td>\n",
       "      <td>238</td>\n",
       "      <td>238</td>\n",
       "      <td>346</td>\n",
       "      <td>354</td>\n",
       "      <td>8</td>\n",
       "      <td>4</td>\n",
       "      <td>218</td>\n",
       "      <td>84</td>\n",
       "      <td>18</td>\n",
       "      <td>238</td>\n",
       "      <td>238</td>\n",
       "    </tr>\n",
       "  </tbody>\n",
       "</table><p>*Number of related records cached.</p></div>"
      ]
     },
     "metadata": {},
     "output_type": "display_data"
    }
   ],
   "source": [
    "wmic_procs = GET process\n",
    "             FROM https://raw.githubusercontent.com/OTRF/Security-Datasets/master/datasets/atomic/windows/lateral_movement/host/empire_wmic_add_user_backdoor.zip\n",
    "             WHERE [process:command_line LIKE '%WMIC%']"
   ]
  },
  {
   "cell_type": "markdown",
   "id": "40033e89-4fcf-4ec6-ae95-0fcb27e6d8e3",
   "metadata": {},
   "source": [
    "We found multiple records of 1 unique process entity.  Let's examine those:"
   ]
  },
  {
   "cell_type": "code",
   "execution_count": 8,
   "id": "6b488d1c",
   "metadata": {},
   "outputs": [
    {
     "name": "stderr",
     "output_type": "stream",
     "text": []
    },
    {
     "data": {
      "text/html": [
       "<table border=\"1\" class=\"dataframe\">\n",
       "  <thead>\n",
       "    <tr style=\"text-align: right;\">\n",
       "      <th>created</th>\n",
       "      <th>command_line</th>\n",
       "      <th>pid</th>\n",
       "      <th>x_unique_id</th>\n",
       "    </tr>\n",
       "  </thead>\n",
       "  <tbody>\n",
       "    <tr>\n",
       "      <td>None</td>\n",
       "      <td>None</td>\n",
       "      <td>9428</td>\n",
       "      <td>None</td>\n",
       "    </tr>\n",
       "    <tr>\n",
       "      <td>None</td>\n",
       "      <td>\"C:\\windows\\System32\\Wbem\\WMIC.exe\" /node:WORKSTATION6 process call create \"net user /add backdoor paw0rd1\"</td>\n",
       "      <td>9428</td>\n",
       "      <td>None</td>\n",
       "    </tr>\n",
       "    <tr>\n",
       "      <td>2020-09-14T12:06:01.826Z</td>\n",
       "      <td>\"C:\\windows\\System32\\Wbem\\WMIC.exe\" /node:WORKSTATION6 process call create \"net user /add backdoor paw0rd1\"</td>\n",
       "      <td>9428</td>\n",
       "      <td>{2d351099-5ca9-5f5f-2f04-000000000400}</td>\n",
       "    </tr>\n",
       "  </tbody>\n",
       "</table>"
      ]
     },
     "metadata": {},
     "output_type": "display_data"
    }
   ],
   "source": [
    "DISP wmic_procs ATTR created, command_line, pid, x_unique_id"
   ]
  },
  {
   "cell_type": "markdown",
   "id": "10c33d04-07ce-45ff-9775-f6a5480164a4",
   "metadata": {},
   "source": [
    "The command line alone gives this one away: `WMIC.exe` is used to create a new process on `WORKSTATION6`.  Let's try to find those processes by looking for the WMI Provider Host (`WMIPrvSE.exe`):"
   ]
  },
  {
   "cell_type": "code",
   "execution_count": 9,
   "id": "2b7d474c",
   "metadata": {},
   "outputs": [
    {
     "name": "stderr",
     "output_type": "stream",
     "text": []
    },
    {
     "data": {
      "text/html": [
       "<div><h4>Block Executed in 12 seconds</h4><table border=\"1\" class=\"dataframe\">\n",
       "  <thead>\n",
       "    <tr style=\"text-align: right;\">\n",
       "      <th>VARIABLE</th>\n",
       "      <th>TYPE</th>\n",
       "      <th>#(ENTITIES)</th>\n",
       "      <th>#(RECORDS)</th>\n",
       "      <th>artifact*</th>\n",
       "      <th>directory*</th>\n",
       "      <th>file*</th>\n",
       "      <th>ipv4-addr*</th>\n",
       "      <th>network-traffic*</th>\n",
       "      <th>process*</th>\n",
       "      <th>user-account*</th>\n",
       "      <th>windows-registry-key*</th>\n",
       "      <th>x-oca-asset*</th>\n",
       "      <th>x-oca-event*</th>\n",
       "    </tr>\n",
       "  </thead>\n",
       "  <tbody>\n",
       "    <tr>\n",
       "      <td>wmiprvse_procs</td>\n",
       "      <td>process</td>\n",
       "      <td>28</td>\n",
       "      <td>329</td>\n",
       "      <td>364</td>\n",
       "      <td>549</td>\n",
       "      <td>596</td>\n",
       "      <td>0</td>\n",
       "      <td>0</td>\n",
       "      <td>364</td>\n",
       "      <td>98</td>\n",
       "      <td>30</td>\n",
       "      <td>380</td>\n",
       "      <td>380</td>\n",
       "    </tr>\n",
       "  </tbody>\n",
       "</table><p>*Number of related records cached.</p></div>"
      ]
     },
     "metadata": {},
     "output_type": "display_data"
    }
   ],
   "source": [
    "wmiprvse_procs = GET process\n",
    "                 WHERE [process:command_line LIKE '%wmiprvse%']"
   ]
  },
  {
   "cell_type": "code",
   "execution_count": 10,
   "id": "0c2efca5",
   "metadata": {},
   "outputs": [
    {
     "name": "stderr",
     "output_type": "stream",
     "text": []
    },
    {
     "data": {
      "text/html": [
       "<table border=\"1\" class=\"dataframe\">\n",
       "  <thead>\n",
       "    <tr style=\"text-align: right;\">\n",
       "      <th>created</th>\n",
       "      <th>command_line</th>\n",
       "      <th>pid</th>\n",
       "      <th>x_unique_id</th>\n",
       "    </tr>\n",
       "  </thead>\n",
       "  <tbody>\n",
       "    <tr>\n",
       "      <td>None</td>\n",
       "      <td>None</td>\n",
       "      <td>3952</td>\n",
       "      <td>None</td>\n",
       "    </tr>\n",
       "    <tr>\n",
       "      <td>None</td>\n",
       "      <td>C:\\windows\\system32\\wbem\\wmiprvse.exe -secured -Embedding</td>\n",
       "      <td>3952</td>\n",
       "      <td>None</td>\n",
       "    </tr>\n",
       "    <tr>\n",
       "      <td>2020-09-14T12:06:02.209Z</td>\n",
       "      <td>C:\\windows\\system32\\wbem\\wmiprvse.exe -secured -Embedding</td>\n",
       "      <td>3952</td>\n",
       "      <td>{83d0c8c3-5caa-5f5f-f002-000000000400}</td>\n",
       "    </tr>\n",
       "    <tr>\n",
       "      <td>None</td>\n",
       "      <td>None</td>\n",
       "      <td>7296</td>\n",
       "      <td>None</td>\n",
       "    </tr>\n",
       "    <tr>\n",
       "      <td>None</td>\n",
       "      <td>C:\\windows\\system32\\wbem\\wmiprvse.exe -secured -Embedding</td>\n",
       "      <td>7296</td>\n",
       "      <td>None</td>\n",
       "    </tr>\n",
       "    <tr>\n",
       "      <td>2020-09-14T12:06:08.432Z</td>\n",
       "      <td>C:\\windows\\system32\\wbem\\wmiprvse.exe -secured -Embedding</td>\n",
       "      <td>7296</td>\n",
       "      <td>{2d351099-5cb0-5f5f-3804-000000000400}</td>\n",
       "    </tr>\n",
       "  </tbody>\n",
       "</table>"
      ]
     },
     "metadata": {},
     "output_type": "display_data"
    }
   ],
   "source": [
    "DISP wmiprvse_procs ATTR created, command_line, pid, x_unique_id"
   ]
  },
  {
   "cell_type": "markdown",
   "id": "1b25f47c-9f91-4ce5-b138-2fdd3761f58a",
   "metadata": {},
   "source": [
    "So it looks like there's 2 instances, pids 3952 and 7296.  They both occur after the `WMIC.exe` command we saw; the first timestamp is less than a second later.  We can now try to find the processes created by these 2 instances:"
   ]
  },
  {
   "cell_type": "code",
   "execution_count": 11,
   "id": "db6f793f",
   "metadata": {},
   "outputs": [
    {
     "name": "stderr",
     "output_type": "stream",
     "text": []
    },
    {
     "data": {
      "text/html": [
       "<div><h4>Block Executed in 7 seconds</h4><table border=\"1\" class=\"dataframe\">\n",
       "  <thead>\n",
       "    <tr style=\"text-align: right;\">\n",
       "      <th>VARIABLE</th>\n",
       "      <th>TYPE</th>\n",
       "      <th>#(ENTITIES)</th>\n",
       "      <th>#(RECORDS)</th>\n",
       "      <th>artifact*</th>\n",
       "      <th>directory*</th>\n",
       "      <th>file*</th>\n",
       "      <th>ipv4-addr*</th>\n",
       "      <th>network-traffic*</th>\n",
       "      <th>process*</th>\n",
       "      <th>user-account*</th>\n",
       "      <th>windows-registry-key*</th>\n",
       "      <th>x-oca-asset*</th>\n",
       "      <th>x-oca-event*</th>\n",
       "    </tr>\n",
       "  </thead>\n",
       "  <tbody>\n",
       "    <tr>\n",
       "      <td>spawned</td>\n",
       "      <td>process</td>\n",
       "      <td>6</td>\n",
       "      <td>55</td>\n",
       "      <td>390</td>\n",
       "      <td>576</td>\n",
       "      <td>644</td>\n",
       "      <td>0</td>\n",
       "      <td>0</td>\n",
       "      <td>418</td>\n",
       "      <td>106</td>\n",
       "      <td>30</td>\n",
       "      <td>406</td>\n",
       "      <td>406</td>\n",
       "    </tr>\n",
       "  </tbody>\n",
       "</table><p>*Number of related records cached.</p></div>"
      ]
     },
     "metadata": {},
     "output_type": "display_data"
    }
   ],
   "source": [
    "spawned = FIND process CREATED BY wmiprvse_procs"
   ]
  },
  {
   "cell_type": "code",
   "execution_count": 12,
   "id": "8abcc8ea",
   "metadata": {},
   "outputs": [
    {
     "name": "stderr",
     "output_type": "stream",
     "text": []
    },
    {
     "data": {
      "text/html": [
       "<table border=\"1\" class=\"dataframe\">\n",
       "  <thead>\n",
       "    <tr style=\"text-align: right;\">\n",
       "      <th>created</th>\n",
       "      <th>command_line</th>\n",
       "      <th>pid</th>\n",
       "      <th>x_unique_id</th>\n",
       "      <th>parent_ref.x_unique_id</th>\n",
       "    </tr>\n",
       "  </thead>\n",
       "  <tbody>\n",
       "    <tr>\n",
       "      <td>None</td>\n",
       "      <td>None</td>\n",
       "      <td>7768</td>\n",
       "      <td>None</td>\n",
       "      <td>None</td>\n",
       "    </tr>\n",
       "    <tr>\n",
       "      <td>None</td>\n",
       "      <td>net user /add backdoor paw0rd1</td>\n",
       "      <td>7768</td>\n",
       "      <td>None</td>\n",
       "      <td>None</td>\n",
       "    </tr>\n",
       "    <tr>\n",
       "      <td>2020-09-14T12:06:02.316Z</td>\n",
       "      <td>net user /add backdoor paw0rd1</td>\n",
       "      <td>7768</td>\n",
       "      <td>{83d0c8c3-5caa-5f5f-f102-000000000400}</td>\n",
       "      <td>{83d0c8c3-5caa-5f5f-f002-000000000400}</td>\n",
       "    </tr>\n",
       "  </tbody>\n",
       "</table>"
      ]
     },
     "metadata": {},
     "output_type": "display_data"
    }
   ],
   "source": [
    "DISP spawned ATTR created, command_line, pid, x_unique_id, parent_ref.x_unique_id"
   ]
  },
  {
   "cell_type": "markdown",
   "id": "e04ef1ef-995f-431b-b3d2-c5140675e646",
   "metadata": {},
   "source": [
    "We only found 1, but it matches the original `WMIC.exe` command line we found initially.  "
   ]
  }
 ],
 "metadata": {
  "kernelspec": {
   "display_name": "Kestrel",
   "language": "kestrel",
   "name": "kestrel"
  },
  "language_info": {
   "codemirror_mode": "kestrel",
   "name": "Kestrel"
  }
 },
 "nbformat": 4,
 "nbformat_minor": 5
}
