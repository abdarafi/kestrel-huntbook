{
 "cells": [
  {
   "cell_type": "markdown",
   "id": "eaea3b65",
   "metadata": {},
   "source": [
    "# Lsass Memory Dump via Comsvcs.dll\n",
    "\n",
    "https://securitydatasets.com/notebooks/atomic/windows/credential_access/SDWIN-201018195009.html\n",
    "\n",
    "https://attack.mitre.org/techniques/T1003/001\n",
    "\n",
    "Attacker sometimes use built-in tools in Windows to dump credential materials from the memory of the Local Security Authority Subsystem Service (LSASS).  This hunt will look at one such technique, using the `MiniDump` exported function from `Comsvcs.dll`.\n",
    "\n",
    "The dataset used here for demonstration is available from the SecurityDatasets.com page linked above. The *Simulation Metadata* section of that page shows the tool type as \"manual\" meaning the simulated adversary manually ran this command from a PowerShell session."
   ]
  },
  {
   "cell_type": "markdown",
   "id": "70c99a1a",
   "metadata": {},
   "source": [
    "Well start by searching for the use of `rundll32.exe` to load `comsvcs.dll` and run the `MiniDump` function therein:"
   ]
  },
  {
   "cell_type": "code",
   "execution_count": 1,
   "id": "7b0e1293",
   "metadata": {},
   "outputs": [
    {
     "name": "stderr",
     "output_type": "stream",
     "text": []
    },
    {
     "data": {
      "text/html": [
       "<div><h4>Block Executed in 1 seconds</h4><table border=\"1\" class=\"dataframe\">\n",
       "  <thead>\n",
       "    <tr style=\"text-align: right;\">\n",
       "      <th>VARIABLE</th>\n",
       "      <th>TYPE</th>\n",
       "      <th>#(ENTITIES)</th>\n",
       "      <th>#(RECORDS)</th>\n",
       "      <th>artifact*</th>\n",
       "      <th>directory*</th>\n",
       "      <th>file*</th>\n",
       "      <th>process*</th>\n",
       "      <th>user-account*</th>\n",
       "      <th>x-oca-asset*</th>\n",
       "      <th>x-oca-event*</th>\n",
       "    </tr>\n",
       "  </thead>\n",
       "  <tbody>\n",
       "    <tr>\n",
       "      <td>procs</td>\n",
       "      <td>process</td>\n",
       "      <td>2</td>\n",
       "      <td>34</td>\n",
       "      <td>34</td>\n",
       "      <td>38</td>\n",
       "      <td>67</td>\n",
       "      <td>35</td>\n",
       "      <td>3</td>\n",
       "      <td>34</td>\n",
       "      <td>34</td>\n",
       "    </tr>\n",
       "  </tbody>\n",
       "</table><p>*Number of related records cached.</p></div>"
      ]
     },
     "metadata": {},
     "output_type": "display_data"
    }
   ],
   "source": [
    "procs = GET process\n",
    "        FROM https://raw.githubusercontent.com/OTRF/Security-Datasets/master/datasets/atomic/windows/credential_access/host/psh_lsass_memory_dump_comsvcs.zip\n",
    "        WHERE binary_ref.name = 'rundll32.exe'\n",
    "              AND command_line LIKE '%comsvcs.dll% MiniDump%'"
   ]
  },
  {
   "cell_type": "code",
   "execution_count": 13,
   "id": "7f1e105c",
   "metadata": {},
   "outputs": [
    {
     "name": "stderr",
     "output_type": "stream",
     "text": []
    },
    {
     "data": {
      "text/html": [
       "<table border=\"1\" class=\"dataframe\">\n",
       "  <thead>\n",
       "    <tr style=\"text-align: right;\">\n",
       "      <th>binary_ref.name</th>\n",
       "      <th>command_line</th>\n",
       "      <th>pid</th>\n",
       "    </tr>\n",
       "  </thead>\n",
       "  <tbody>\n",
       "    <tr>\n",
       "      <td>rundll32.exe</td>\n",
       "      <td>\"C:\\Windows\\System32\\rundll32.exe\" C:\\windows\\System32\\comsvcs.dll MiniDump 756 C:\\Users\\wardog\\AppData\\Local\\Temp\\lsass-comsvcs.dmp full</td>\n",
       "      <td>4824</td>\n",
       "    </tr>\n",
       "  </tbody>\n",
       "</table>"
      ]
     },
     "metadata": {},
     "output_type": "display_data"
    }
   ],
   "source": [
    "DISP procs ATTR binary_ref.name, command_line, pid"
   ]
  },
  {
   "cell_type": "markdown",
   "id": "9c319212",
   "metadata": {},
   "source": [
    "We found 1 instance; whether a given instance is malicious or not could depend on the related entities: the `process` that created this `process`, the associated `user-account`, etc.  Let's look at the parent process:"
   ]
  },
  {
   "cell_type": "code",
   "execution_count": 3,
   "id": "62c75d73",
   "metadata": {},
   "outputs": [
    {
     "name": "stderr",
     "output_type": "stream",
     "text": []
    },
    {
     "data": {
      "text/html": [
       "<div><h4>Block Executed in 1 seconds</h4><table border=\"1\" class=\"dataframe\">\n",
       "  <thead>\n",
       "    <tr style=\"text-align: right;\">\n",
       "      <th>VARIABLE</th>\n",
       "      <th>TYPE</th>\n",
       "      <th>#(ENTITIES)</th>\n",
       "      <th>#(RECORDS)</th>\n",
       "      <th>artifact*</th>\n",
       "      <th>directory*</th>\n",
       "      <th>file*</th>\n",
       "      <th>process*</th>\n",
       "      <th>user-account*</th>\n",
       "      <th>windows-registry-key*</th>\n",
       "      <th>x-oca-asset*</th>\n",
       "      <th>x-oca-event*</th>\n",
       "    </tr>\n",
       "  </thead>\n",
       "  <tbody>\n",
       "    <tr>\n",
       "      <td>parents</td>\n",
       "      <td>process</td>\n",
       "      <td>2</td>\n",
       "      <td>29</td>\n",
       "      <td>60</td>\n",
       "      <td>66</td>\n",
       "      <td>95</td>\n",
       "      <td>62</td>\n",
       "      <td>4</td>\n",
       "      <td>24</td>\n",
       "      <td>60</td>\n",
       "      <td>60</td>\n",
       "    </tr>\n",
       "  </tbody>\n",
       "</table><p>*Number of related records cached.</p></div>"
      ]
     },
     "metadata": {},
     "output_type": "display_data"
    }
   ],
   "source": [
    "parents = FIND process CREATED procs"
   ]
  },
  {
   "cell_type": "code",
   "execution_count": 6,
   "id": "d3c82b6a",
   "metadata": {},
   "outputs": [
    {
     "name": "stderr",
     "output_type": "stream",
     "text": []
    },
    {
     "data": {
      "text/html": [
       "<table border=\"1\" class=\"dataframe\">\n",
       "  <thead>\n",
       "    <tr style=\"text-align: right;\">\n",
       "      <th>binary_ref.name</th>\n",
       "      <th>command_line</th>\n",
       "      <th>parent_ref.pid</th>\n",
       "    </tr>\n",
       "  </thead>\n",
       "  <tbody>\n",
       "    <tr>\n",
       "      <td>powershell.exe</td>\n",
       "      <td>C:\\Windows\\System32\\WindowsPowerShell\\v1.0\\powershell.exe</td>\n",
       "      <td>None</td>\n",
       "    </tr>\n",
       "    <tr>\n",
       "      <td>powershell.exe</td>\n",
       "      <td>None</td>\n",
       "      <td>None</td>\n",
       "    </tr>\n",
       "  </tbody>\n",
       "</table>"
      ]
     },
     "metadata": {},
     "output_type": "display_data"
    }
   ],
   "source": [
    "DISP parents ATTR binary_ref.name, command_line, parent_ref.pid"
   ]
  },
  {
   "cell_type": "markdown",
   "id": "5a61539f",
   "metadata": {},
   "source": [
    "It's PowerShell, which is standard Windows shell.  It's also a popular tool for attackers, however.  The dataset we're using doesn't show anything beyond this, but if you re-run this hunt against a live data source you could continue following the trail here by `FIND`ing what process created powershell, etc.\n",
    "\n",
    "Knowing the user will help round out the picture for the incident report."
   ]
  },
  {
   "cell_type": "code",
   "execution_count": 10,
   "id": "54a89d5f",
   "metadata": {},
   "outputs": [
    {
     "name": "stderr",
     "output_type": "stream",
     "text": []
    },
    {
     "data": {
      "text/html": [
       "<div><h4>Block Executed in 1 seconds</h4><table border=\"1\" class=\"dataframe\">\n",
       "  <thead>\n",
       "    <tr style=\"text-align: right;\">\n",
       "      <th>VARIABLE</th>\n",
       "      <th>TYPE</th>\n",
       "      <th>#(ENTITIES)</th>\n",
       "      <th>#(RECORDS)</th>\n",
       "      <th>artifact*</th>\n",
       "      <th>directory*</th>\n",
       "      <th>file*</th>\n",
       "      <th>process*</th>\n",
       "      <th>user-account*</th>\n",
       "      <th>windows-registry-key*</th>\n",
       "      <th>x-oca-asset*</th>\n",
       "      <th>x-oca-event*</th>\n",
       "    </tr>\n",
       "  </thead>\n",
       "  <tbody>\n",
       "    <tr>\n",
       "      <td>users</td>\n",
       "      <td>user-account</td>\n",
       "      <td>2</td>\n",
       "      <td>32</td>\n",
       "      <td>88</td>\n",
       "      <td>91</td>\n",
       "      <td>120</td>\n",
       "      <td>89</td>\n",
       "      <td>30</td>\n",
       "      <td>24</td>\n",
       "      <td>88</td>\n",
       "      <td>88</td>\n",
       "    </tr>\n",
       "  </tbody>\n",
       "</table><p>*Number of related records cached.</p></div>"
      ]
     },
     "metadata": {},
     "output_type": "display_data"
    }
   ],
   "source": [
    "users = FIND user-account OWNED procs"
   ]
  },
  {
   "cell_type": "code",
   "execution_count": 11,
   "id": "7383c1a6",
   "metadata": {},
   "outputs": [
    {
     "name": "stderr",
     "output_type": "stream",
     "text": []
    },
    {
     "data": {
      "text/html": [
       "<table border=\"1\" class=\"dataframe\">\n",
       "  <thead>\n",
       "    <tr style=\"text-align: right;\">\n",
       "      <th>user_id</th>\n",
       "      <th>id</th>\n",
       "    </tr>\n",
       "  </thead>\n",
       "  <tbody>\n",
       "    <tr>\n",
       "      <td>WORKSTATION5\\wardog</td>\n",
       "      <td>user-account--c8b6cbe8-e16c-5b03-948a-085d1333e43e</td>\n",
       "    </tr>\n",
       "    <tr>\n",
       "      <td>wardog</td>\n",
       "      <td>user-account--7c7b7450-5cfd-5683-a891-20644b37e384</td>\n",
       "    </tr>\n",
       "  </tbody>\n",
       "</table>"
      ]
     },
     "metadata": {},
     "output_type": "display_data"
    }
   ],
   "source": [
    "DISP users"
   ]
  },
  {
   "cell_type": "markdown",
   "id": "2f493618",
   "metadata": {},
   "source": [
    "We can also retrieve the machine names where this took place:"
   ]
  },
  {
   "cell_type": "code",
   "execution_count": 7,
   "id": "a3839007",
   "metadata": {},
   "outputs": [
    {
     "name": "stderr",
     "output_type": "stream",
     "text": []
    },
    {
     "data": {
      "text/html": [
       "<div><h4>Block Executed in 1 seconds</h4><table border=\"1\" class=\"dataframe\">\n",
       "  <thead>\n",
       "    <tr style=\"text-align: right;\">\n",
       "      <th>VARIABLE</th>\n",
       "      <th>TYPE</th>\n",
       "      <th>#(ENTITIES)</th>\n",
       "      <th>#(RECORDS)</th>\n",
       "      <th>artifact*</th>\n",
       "      <th>directory*</th>\n",
       "      <th>file*</th>\n",
       "      <th>process*</th>\n",
       "      <th>user-account*</th>\n",
       "      <th>windows-registry-key*</th>\n",
       "      <th>x-oca-asset*</th>\n",
       "      <th>x-oca-event*</th>\n",
       "    </tr>\n",
       "  </thead>\n",
       "  <tbody>\n",
       "    <tr>\n",
       "      <td>hosts</td>\n",
       "      <td>x-oca-asset</td>\n",
       "      <td>1</td>\n",
       "      <td>60</td>\n",
       "      <td>60</td>\n",
       "      <td>66</td>\n",
       "      <td>95</td>\n",
       "      <td>64</td>\n",
       "      <td>4</td>\n",
       "      <td>24</td>\n",
       "      <td>59</td>\n",
       "      <td>60</td>\n",
       "    </tr>\n",
       "  </tbody>\n",
       "</table><p>*Number of related records cached.</p></div>"
      ]
     },
     "metadata": {},
     "output_type": "display_data"
    }
   ],
   "source": [
    "hosts = FIND x-oca-asset LINKED procs"
   ]
  },
  {
   "cell_type": "code",
   "execution_count": 8,
   "id": "8fbf0b9b",
   "metadata": {},
   "outputs": [
    {
     "name": "stderr",
     "output_type": "stream",
     "text": []
    },
    {
     "data": {
      "text/html": [
       "<table border=\"1\" class=\"dataframe\">\n",
       "  <thead>\n",
       "    <tr style=\"text-align: right;\">\n",
       "      <th>hostname</th>\n",
       "      <th>id</th>\n",
       "    </tr>\n",
       "  </thead>\n",
       "  <tbody>\n",
       "    <tr>\n",
       "      <td>WORKSTATION5</td>\n",
       "      <td>x-oca-asset--40bf1119-f018-56a0-a6a5-9bfeab2bc1df</td>\n",
       "    </tr>\n",
       "  </tbody>\n",
       "</table>"
      ]
     },
     "metadata": {},
     "output_type": "display_data"
    }
   ],
   "source": [
    "DISP hosts"
   ]
  },
  {
   "cell_type": "markdown",
   "id": "7a3be139",
   "metadata": {},
   "source": [
    "At this point, we have the basic evidence for creating an incident report.  "
   ]
  }
 ],
 "metadata": {
  "kernelspec": {
   "display_name": "Kestrel",
   "language": "kestrel",
   "name": "kestrel"
  },
  "language_info": {
   "file_extension": ".hf",
   "name": "kestrel"
  }
 },
 "nbformat": 4,
 "nbformat_minor": 5
}
